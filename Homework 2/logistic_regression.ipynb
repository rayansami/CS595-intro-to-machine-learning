{
 "cells": [
  {
   "cell_type": "markdown",
   "metadata": {},
   "source": [
    "# Implement Logistic Regression for Book Classification\n",
    "\n",
    "This notebook does the following:\n",
    "\n",
    "* Loads a data set for predicting whether a book is hardcover or paperback from two input features: the thickness of the book and the weight of the book\n",
    "* Normalizes the features\n",
    "* Has a placeholder for your implementation of logistic regression\n",
    "* Plots the data and the decision boundary of the learned model\n",
    "\n",
    "Read below and follow instructions to complete the implementation.\n",
    "\n",
    "## Setup\n",
    "Run the code below to import modules, etc."
   ]
  },
  {
   "cell_type": "code",
   "execution_count": 113,
   "metadata": {},
   "outputs": [],
   "source": [
    "%matplotlib inline\n",
    "%reload_ext autoreload\n",
    "%autoreload 2\n",
    "\n",
    "import numpy as np\n",
    "import matplotlib.pyplot as plt\n",
    "import pandas as pd\n",
    "\n",
    "from util import normalize_features\n",
    "from logistic_regression import logistic, cost_function, gradient_descent"
   ]
  },
  {
   "cell_type": "markdown",
   "metadata": {},
   "source": [
    "## Load and Prep Data\n",
    "*Read the code* in the cell below and run it. This loads the book data from file and selects two features to set up the training data ``X`` (data matrix) and ``y`` (label vector). It then normalizes the training data to have both input features with mean 0 and variance 1."
   ]
  },
  {
   "cell_type": "code",
   "execution_count": 116,
   "metadata": {},
   "outputs": [],
   "source": [
    "data = pd.read_csv('book-data.csv', sep=',',header=None).values\n",
    "\n",
    "# % Data columns\n",
    "# %\n",
    "# % 0 - width\n",
    "# % 1 - thickness .\n",
    "# % 2 - height\n",
    "# % 3 - pages\n",
    "# % 4 - hardcover\n",
    "# % 5 - weight . \n",
    "\n",
    "X = data[:,[1,5]]\n",
    "#print(X)\n",
    "y = data[:,4] # y consists of 1 and 0, with 1 indicating hardcover, 0 paperback \n",
    "\n",
    "# % Extract the normalized features into named column vectors\n",
    "width     = data[:,0]\n",
    "thickness = data[:,1]\n",
    "height    = data[:,2]\n",
    "pages     = data[:,3]\n",
    "weight    = data[:,5]\n",
    "\n",
    "m = data.shape[0]\n",
    "X = np.stack([np.ones(m), thickness, height], axis=1)\n",
    "n = X.shape[1]\n",
    "\n",
    "X, mu, sigma = normalize_features(X)"
   ]
  },
  {
   "cell_type": "code",
   "execution_count": null,
   "metadata": {},
   "outputs": [],
   "source": []
  },
  {
   "cell_type": "markdown",
   "metadata": {},
   "source": [
    "# (1 point) Implement the ``logistic`` function\n",
    "Open the file ``logistic_regression.py`` and complete the code for the function ``logistic`` (that is sigmoid). Then run the cell below to plot the logistic function for $-10 \\leq z \\leq 10$ to test your implementation --- it should look like the logistic function!"
   ]
  },
  {
   "cell_type": "code",
   "execution_count": 117,
   "metadata": {},
   "outputs": [
    {
     "data": {
      "image/png": "[encoded data removed]",
      "text/plain": [
       "<Figure size 432x288 with 1 Axes>"
      ]
     },
     "metadata": {
      "needs_background": "light"
     },
     "output_type": "display_data"
    }
   ],
   "source": [
    "z = np.linspace(-10, 10, 100)\n",
    "plt.plot(z, logistic(z))\n",
    "plt.show()"
   ]
  },
  {
   "cell_type": "markdown",
   "metadata": {},
   "source": [
    "# (2 points) Implement ``cost_function``\n",
    "Complete the code for ``cost_function`` in the file ``logistic_regression.py`` to implement the logistic regression cost function (i.e., the logistic loss introduced in clas). Then test it with the code in the cell below."
   ]
  },
  {
   "cell_type": "code",
   "execution_count": 118,
   "metadata": {},
   "outputs": [
    {
     "name": "stdout",
     "output_type": "stream",
     "text": [
      "38.816242111356935\n"
     ]
    }
   ],
   "source": [
    "w = np.zeros(n)\n",
    "print(cost_function(X, y, w)) # prints 38.81624...."
   ]
  },
  {
   "cell_type": "markdown",
   "metadata": {},
   "source": [
    "# Setup for plotting a learned model\n",
    "Run this cell and optionally read the code. It defines a function to help plot the data together with the decision boundary for the model we are about to learn."
   ]
  },
  {
   "cell_type": "code",
   "execution_count": 119,
   "metadata": {},
   "outputs": [],
   "source": [
    "def plot_model(X, y, w):\n",
    "    pos = y==1\n",
    "    neg = y==0\n",
    "\n",
    "    plt.scatter(X[pos,1], X[pos,2], marker='+', color='blue', label='Hardcover')\n",
    "    plt.scatter(X[neg,1], X[neg,2], marker='o', color='red', facecolors='none', label='Paperback')\n",
    "\n",
    "    # plot the decision boundary\n",
    "    x1_min = np.min(X[:,1]) - 0.5\n",
    "    x1_max = np.max(X[:,1]) + 0.5\n",
    "\n",
    "    x1 = np.array([x1_min, x1_max])\n",
    "    x2 = (w[0] + w[1]*x1)/(-w[2])\n",
    "    plt.plot(x1, x2, label='Decision boundary')\n",
    "\n",
    "    plt.xlabel('thickness (normalized)')\n",
    "    plt.ylabel('height (normalized)')\n",
    "    plt.legend(loc='lower right')\n",
    "    plt.show()"
   ]
  },
  {
   "cell_type": "markdown",
   "metadata": {},
   "source": [
    "# (7 points) Implement gradient descent for logistic regression\n",
    "Now complete the code for ``gradient_descent`` in the file ``logistic_regression.py``, which runs gradient descent to find the best parameters ``theta``, and write code in the cell below to:\n",
    "\n",
    "1. Call ``gradient_descent`` to learn ``theta``\n",
    "1. Print the final value of the cost function\n",
    "1. Plot J_history to assess convergence\n",
    "1. Tune the step size and number of iterations if needed until the algorithm converges and the decision boundary (see next cell) looks reasonable\n",
    "1. Print the accuracy---the percentage of correctly classified examples in the training set"
   ]
  },
  {
   "cell_type": "code",
   "execution_count": 133,
   "metadata": {
    "scrolled": false
   },
   "outputs": [
    {
     "name": "stdout",
     "output_type": "stream",
     "text": [
      "2. Final cost: 26.752278655783726\n",
      "3. Cost history to assess convergence-\n"
     ]
    },
    {
     "data": {
      "image/png": "[encoded data removed]",
      "text/plain": [
       "<Figure size 432x288 with 1 Axes>"
      ]
     },
     "metadata": {
      "needs_background": "light"
     },
     "output_type": "display_data"
    },
    {
     "name": "stdout",
     "output_type": "stream",
     "text": [
      "4.Decision boundary\n"
     ]
    },
    {
     "data": {
      "image/png": "[encoded data removed]",
      "text/plain": [
       "<Figure size 432x288 with 1 Axes>"
      ]
     },
     "metadata": {
      "needs_background": "light"
     },
     "output_type": "display_data"
    },
    {
     "name": "stdout",
     "output_type": "stream",
     "text": [
      "Prediction on the training set with new theta -\n",
      "Predicted   0   1\n",
      "Actual           \n",
      "0.0        22   5\n",
      "1.0         8  21\n",
      "5. Accuracy| The percentage of correctly classified examples in the training set 76.78571428571429 %\n"
     ]
    }
   ],
   "source": [
    "w = np.zeros(n)\n",
    "\n",
    "#\n",
    "# YOUR CODE HERE\n",
    "alpha = 0.1\n",
    "iters = 100\n",
    "w, J_history = gradient_descent(X,y,w,alpha,iters)\n",
    "#\n",
    "print('2. Final cost:',J_history[-1])\n",
    "\n",
    "print('3. Cost history to assess convergence-')\n",
    "plt.figure()\n",
    "plt.plot(range(0,iters),J_history)\n",
    "plt.xlabel(\"Time in epochs\")\n",
    "plt.ylabel(\"Cost\")\n",
    "plt.show()\n",
    "\n",
    "# Plots data and decision boundary. If you have learned a good theta\n",
    "# you will see a decision boundary that separates the data in a \n",
    "# reasonable way.\n",
    "print('4.Decision boundary')\n",
    "plot_model(X, y, w) \n",
    "\n",
    "print('Prediction on the training set with new theta -')\n",
    "probability = logistic(X.dot(w))# 1/(1+np.exp(X.dot(w)))\n",
    "predictions = [1 if x>= 0.5 else 0 for x in probability]\n",
    "# confusion matrix \n",
    "y_actu = pd.Series(y, name='Actual')\n",
    "y_pred = pd.Series(predictions, name='Predicted')\n",
    "confusion_matrix = pd.crosstab(y_actu, y_pred)\n",
    "print(confusion_matrix)\n",
    "true_positive = confusion_matrix[0][0] \n",
    "true_negative = confusion_matrix[1][1] \n",
    "\n",
    "accuracy = 100* (true_positive+true_negative) / np.sum(np.matrix(confusion_matrix))\n",
    "print('5. Accuracy| The percentage of correctly classified examples in the training set',accuracy,'%')"
   ]
  },
  {
   "cell_type": "code",
   "execution_count": null,
   "metadata": {},
   "outputs": [],
   "source": []
  }
 ],
 "metadata": {
  "anaconda-cloud": {},
  "kernelspec": {
   "display_name": "Python 3",
   "language": "python",
   "name": "python3"
  },
  "language_info": {
   "codemirror_mode": {
    "name": "ipython",
    "version": 3
   },
   "file_extension": ".py",
   "mimetype": "text/x-python",
   "name": "python",
   "nbconvert_exporter": "python",
   "pygments_lexer": "ipython3",
   "version": "3.7.4"
  }
 },
 "nbformat": 4,
 "nbformat_minor": 1
}

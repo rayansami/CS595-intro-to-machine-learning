{
 "cells": [
  {
   "cell_type": "markdown",
   "metadata": {},
   "source": [
    "# Problem Description\n",
    "\n",
    "This notebook will guide you through implementation of **multivariate linear regression** to solve the **polynomial regression** problem:\n",
    "\n",
    "$$\n",
    "f(x;\\boldsymbol{\\rm w}) = w_0 + w_1 x + w_2 x^2 +  w_3 x^3 + w_4 x^4\n",
    "= {\\boldsymbol{\\rm x}}^T{\\boldsymbol{\\rm w}}\n",
    "$$\n",
    "\n",
    "$$\n",
    "\\boldsymbol{\\rm w} = \\begin{bmatrix}w_0 \\\\ w_1 \\\\ w_2 \\\\ w_3 \\\\ w_4\\end{bmatrix}, \n",
    "\\qquad\n",
    "\\boldsymbol{\\rm x} = \\begin{bmatrix}1 \\\\ x \\\\ x^2 \\\\ x^3 \\\\ x^4\\end{bmatrix}\n",
    "$$\n",
    "\n",
    "Below, you will\n",
    "\n",
    "1. Implement the cost function for multivarate linear regression\n",
    "1. Implement the normal equations method (closed-form solution discussed in class) to solve a multivariate linear regression problem\n",
    "1. Implement gradient descent for multivariate linear regression\n"
   ]
  },
  {
   "cell_type": "markdown",
   "metadata": {},
   "source": [
    "## Imports\n",
    "Run this code."
   ]
  },
  {
   "cell_type": "code",
   "execution_count": 1,
   "metadata": {},
   "outputs": [],
   "source": [
    "%matplotlib inline\n",
    "\n",
    "import numpy as np\n",
    "import matplotlib.pyplot as plt"
   ]
  },
  {
   "cell_type": "markdown",
   "metadata": {},
   "source": [
    "## Helper functions\n",
    "Run this code to set up the helper functions. The function ``feature_expansion`` accepts an vector of $n$ scalar x values and returns an $n \\times 5$ data matrix (i.e., the design matrix discussed in class) by applying the feature expansion $x \\mapsto [1, x, x^2, x^3, x^4]$ for each scalar $x$ value."
   ]
  },
  {
   "cell_type": "code",
   "execution_count": 2,
   "metadata": {},
   "outputs": [],
   "source": [
    "def feature_expansion(x, deg):\n",
    "    if x.ndim > 1:\n",
    "        raise ValueError('x should be a 1-dimensional array')\n",
    "    m = x.shape\n",
    "    x_powers = [x**k for k in range(0,deg+1)]\n",
    "    X = np.stack( x_powers, axis=1 )\n",
    "\n",
    "    return X\n",
    "\n",
    "def plot_model(X_test, w):\n",
    "    '''\n",
    "    Note: uses globals x, y, x_test, which are assigned below\n",
    "    when the dataset is created. Don't overwrite these variables.\n",
    "    '''\n",
    "    y_test = np.dot(X_test, w)\n",
    "    plt.scatter(x, y)\n",
    "    plt.plot(x_test, y_test)\n",
    "    plt.legend(['Test', 'Train'])"
   ]
  },
  {
   "cell_type": "markdown",
   "metadata": {},
   "source": [
    "## List comprehensions (3 points) \n",
    "\n",
    "Read about list comprehensions. Explain what is happening in the line of code\n",
    "\n",
    "```python\n",
    "x_powers = [x**k for k in range(0,deg+1)]  \n",
    "```"
   ]
  },
  {
   "cell_type": "markdown",
   "metadata": {},
   "source": [
    "** *Your answer here* **\n",
    "\n",
    "x_powers is the new list which contains x^k(x**k) values for each of k. The k value can be from 0 to deg+1.\n",
    "\n",
    "Suppose deg = 3,so the values of k can be 0,1,2. Furthermore, for each k value, the new list x_powers will contain the following values: x**0,x**1,x**2 or 1,x**1,x**2. "
   ]
  },
  {
   "cell_type": "markdown",
   "metadata": {},
   "source": [
    "## Create a data set for polynomial regression\n",
    "\n",
    "Read and run the code below. This generates data from a fourth-degree polynomial and then uses feature expansion to set up the problem of learning the polynomial as multivariate linear regression"
   ]
  },
  {
   "cell_type": "code",
   "execution_count": 3,
   "metadata": {},
   "outputs": [
    {
     "data": {
      "image/png": "[encoded data removed]",
      "text/plain": [
       "<Figure size 432x288 with 1 Axes>"
      ]
     },
     "metadata": {
      "needs_background": "light"
     },
     "output_type": "display_data"
    }
   ],
   "source": [
    "# Set random seed\n",
    "np.random.seed(0)\n",
    "\n",
    "# Create random set of m training x values between -5 and 5\n",
    "m = 100\n",
    "x = np.random.rand(m)*10 - 5   \n",
    "\n",
    "# Create evenly spaced test x values (for plotting)\n",
    "x_test  = np.linspace(-5, 5, 100)\n",
    "m_test  = len(x_test);\n",
    "\n",
    "# Feature expansion for training and test x values\n",
    "deg = 4\n",
    "X      = feature_expansion(x, deg)\n",
    "X_test = feature_expansion(x_test, deg)\n",
    "\n",
    "n = deg + 1   # total number of features including the '1' feature\n",
    "\n",
    "# Define parameters (w) and generate y values\n",
    "w = 0.1*np.array([1, 1, 10, 0.5, -0.5]);\n",
    "y = np.dot(X, w) + np.random.randn(m)   # polynomial plus noise\n",
    "\n",
    "# Plot the training data\n",
    "plt.scatter(x, y)\n",
    "plt.title('Training Data')\n",
    "plt.xlabel('x')\n",
    "plt.ylabel('y')\n",
    "plt.show()\n"
   ]
  },
  {
   "cell_type": "markdown",
   "metadata": {},
   "source": [
    "## Implement the cost function (3 points) \n",
    "Complete the code below to implement the cost function for multivariate linear regression."
   ]
  },
  {
   "cell_type": "code",
   "execution_count": 4,
   "metadata": {},
   "outputs": [],
   "source": [
    "def cost_function(X, y, w):  \n",
    "    '''\n",
    "    Compute the cost function for a particular data set and \n",
    "    hypothesis (parameter vector)\n",
    "    \n",
    "    Inputs: \n",
    "        X       m x n data matrix\n",
    "        y       training output (length m vector)\n",
    "        w   parameters (length n vector)\n",
    "    Output:\n",
    "        cost    the value of the cost function (scalar)\n",
    "    '''                        \n",
    "    cost = np.sum(np.square((X.dot(w) - y)))\n",
    "    return cost\n",
    "    "
   ]
  },
  {
   "cell_type": "markdown",
   "metadata": {},
   "source": [
    "## Test the cost function\n",
    "Run this to test your cost function."
   ]
  },
  {
   "cell_type": "code",
   "execution_count": 5,
   "metadata": {},
   "outputs": [
    {
     "name": "stdout",
     "output_type": "stream",
     "text": [
      "Cost function (random): 109047.29\n",
      "Cost function  (zeros): 1691.30\n",
      "Cost function   (ones): 5049362.16\n"
     ]
    }
   ],
   "source": [
    "np.random.seed(1)\n",
    "\n",
    "w_random = np.random.rand(n)\n",
    "w_zeros  = np.zeros(n)\n",
    "w_ones   = np.ones(n)\n",
    "\n",
    "print( \"Cost function (random): %.2f\" % cost_function(X, y, w_random))  # prints 109047.29\n",
    "print( \"Cost function  (zeros): %.2f\" % cost_function(X, y, w_zeros))   # prints 1691.30\n",
    "print( \"Cost function   (ones): %.2f\" % cost_function(X, y, w_ones))    # prints 5049362.16"
   ]
  },
  {
   "cell_type": "markdown",
   "metadata": {},
   "source": [
    "## Implement first training algorithm: normal equations (9 points) "
   ]
  },
  {
   "cell_type": "code",
   "execution_count": 28,
   "metadata": {},
   "outputs": [],
   "source": [
    "def normal_equations(X, y):\n",
    "    '''\n",
    "    Train a linear regression model using the normal equations\n",
    "\n",
    "    Inputs: \n",
    "        X       m x n data matrix\n",
    "        y       training output (length m vector)\n",
    "    Output:\n",
    "        w   parameters (length n vector)\n",
    "\n",
    "    '''\n",
    "    # TODO: write correct code to find w using the normal equations\n",
    "    m, n = X.shape\n",
    "    w = np.zeros(n)            \n",
    "    w= np.linalg.inv( X.transpose().dot(X)).dot(X.transpose()).dot(y)\n",
    "    return w"
   ]
  },
  {
   "cell_type": "markdown",
   "metadata": {},
   "source": [
    "## Use normal equations to fit the model\n",
    "Run this code to test your implementation of the normal equations. If it runs properly you will see a curve that fits the data well. Note the value of the cost function for ``w_normal_equations``."
   ]
  },
  {
   "cell_type": "code",
   "execution_count": 29,
   "metadata": {},
   "outputs": [
    {
     "name": "stdout",
     "output_type": "stream",
     "text": [
      "Cost function: 97.07\n"
     ]
    },
    {
     "data": {
      "image/png": "[encoded data removed]",
      "text/plain": [
       "<Figure size 432x288 with 1 Axes>"
      ]
     },
     "metadata": {
      "needs_background": "light"
     },
     "output_type": "display_data"
    }
   ],
   "source": [
    "w_normal_equations = normal_equations(X, y)\n",
    "plot_model(X_test, w_normal_equations)\n",
    "print (\"Cost function: %.2f\" % cost_function(X, y, w_normal_equations))"
   ]
  },
  {
   "cell_type": "markdown",
   "metadata": {},
   "source": [
    "## Implement second training algorithm: (vectorized) gradient descent (9 points) \n",
    "\n",
    "Implement gradient descent for multivariate linear regression. Make sure your solution is vectorized (Hints: check lecture slides)."
   ]
  },
  {
   "cell_type": "code",
   "execution_count": 52,
   "metadata": {},
   "outputs": [],
   "source": [
    "def gradient_descent( X, y, alpha, iters, w=None ):\n",
    "    '''\n",
    "    Train a linear regression model by gradient descent\n",
    "\n",
    "    Inputs: \n",
    "                r   c\n",
    "        X       m x n data matrix\n",
    "        y       training output (length m vector)\n",
    "        alpha   step size\n",
    "        iters   number of iterations\n",
    "        w   initial parameter values (length n vector; optional)\n",
    "    \n",
    "    Output:\n",
    "        w      learned parameters (length n vector)\n",
    "        J_history  trace of cost function value in each iteration\n",
    "\n",
    "    '''\n",
    "\n",
    "    m,n = X.shape\n",
    "    \n",
    "    if w is None:\n",
    "        w = np.zeros(n)    \n",
    "    # For recording cost function value during gradient descent\n",
    "    J_history = np.zeros(iters)  \n",
    "    for i in range(0, iters):\n",
    "        # TODO: compute gradient (vectorized) and update w\n",
    "        difference = y - np.dot(X,w)\n",
    "        gradient = -2*X.transpose().dot(difference)\n",
    "        w -= alpha * gradient\n",
    "        # Record cost function\n",
    "        J_history[i] = cost_function(X, y, w)\n",
    " \n",
    "\n",
    "    return w, J_history"
   ]
  },
  {
   "cell_type": "markdown",
   "metadata": {},
   "source": [
    "## Use gradient descent to train the model (6 points) \n",
    "* Write code to call your ``gradient_descent`` method to learn parameter\n",
    "* Plot the model fit (use ``plot_model``)\n"
   ]
  },
  {
   "cell_type": "code",
   "execution_count": 53,
   "metadata": {
    "scrolled": true
   },
   "outputs": [
    {
     "name": "stderr",
     "output_type": "stream",
     "text": [
      "C:\\tools\\Anaconda3\\lib\\site-packages\\ipykernel_launcher.py:13: RuntimeWarning: overflow encountered in square\n",
      "  del sys.path[0]\n",
      "C:\\tools\\Anaconda3\\lib\\site-packages\\ipykernel_launcher.py:28: RuntimeWarning: overflow encountered in multiply\n",
      "C:\\tools\\Anaconda3\\lib\\site-packages\\ipykernel_launcher.py:29: RuntimeWarning: invalid value encountered in subtract\n"
     ]
    },
    {
     "data": {
      "image/png": "[encoded data removed]",
      "text/plain": [
       "<Figure size 432x288 with 1 Axes>"
      ]
     },
     "metadata": {
      "needs_background": "light"
     },
     "output_type": "display_data"
    }
   ],
   "source": [
    "# TODO: write code\n",
    "iters = 100\n",
    "w, J_history = gradient_descent(X,y,0.001,iters)\n",
    "plot_model(X_test, w)"
   ]
  },
  {
   "cell_type": "markdown",
   "metadata": {},
   "source": [
    "* Plot the cost function vs. iteration to help assess convergence\n",
    "* Print the final value of the cost function"
   ]
  },
  {
   "cell_type": "code",
   "execution_count": 47,
   "metadata": {},
   "outputs": [
    {
     "data": {
      "image/png": "[encoded data removed]",
      "text/plain": [
       "<Figure size 432x288 with 1 Axes>"
      ]
     },
     "metadata": {
      "needs_background": "light"
     },
     "output_type": "display_data"
    }
   ],
   "source": [
    "# TODO: write code\n",
    "plt.figure()\n",
    "plt.plot(range(0,iters),J_history)\n",
    "plt.xlabel(\"Time in epochs\")\n",
    "plt.ylabel(\"Cost\")\n",
    "plt.show()"
   ]
  },
  {
   "cell_type": "markdown",
   "metadata": {},
   "source": [
    "* Experiment with different step sizes and numbers of iterations until you can find a good model. Try to match the cost function value from ``normal_equations`` to two decimal places. How many iterations does this take? "
   ]
  },
  {
   "cell_type": "markdown",
   "metadata": {},
   "source": [
    "** *Write your answer here*. **"
   ]
  }
 ],
 "metadata": {
  "anaconda-cloud": {},
  "kernelspec": {
   "display_name": "Python 3",
   "language": "python",
   "name": "python3"
  },
  "language_info": {
   "codemirror_mode": {
    "name": "ipython",
    "version": 3
   },
   "file_extension": ".py",
   "mimetype": "text/x-python",
   "name": "python",
   "nbconvert_exporter": "python",
   "pygments_lexer": "ipython3",
   "version": "3.7.7"
  }
 },
 "nbformat": 4,
 "nbformat_minor": 1
}

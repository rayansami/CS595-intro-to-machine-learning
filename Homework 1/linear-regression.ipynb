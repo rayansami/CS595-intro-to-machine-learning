{
 "cells": [
  {
   "cell_type": "markdown",
   "metadata": {},
   "source": [
    "# Describe your problem (4 points)\n",
    "Briefly describe what $x$ and $y$ are in your data, and why it may be interesting to predict $y$ for a value of $x$ that is not in the training set."
   ]
  },
  {
   "cell_type": "markdown",
   "metadata": {},
   "source": [
    "I am using data records of the average weight of the brain and body for a number of mammal species. My feature is brain weights(x) and target varriable(y) is body weights. Predicting y after training on this dataset can be quite interesting as it can give the notion of body mass and size of a mammal based on their brain size. Data sourse is here: https://people.sc.fsu.edu/~jburkardt/datasets/regression/x01.txt"
   ]
  },
  {
   "cell_type": "markdown",
   "metadata": {},
   "source": [
    "# Enter or load your data (4 points)\n",
    "Either enter your x and y training data directly here as numpy arrays, or load the data from file. If you choose the latter, make sure to include your data file in the submission!\n"
   ]
  },
  {
   "cell_type": "code",
   "execution_count": 7,
   "metadata": {},
   "outputs": [],
   "source": [
    "# Enter/load data here\n",
    "#import pandas as pd\n",
    "#import numpy as np\n",
    "\n",
    "import pandas as pd  \n",
    "import numpy as np  \n",
    "import matplotlib.pyplot as plt  \n",
    "import seaborn as seabornInstance \n",
    "from sklearn.model_selection import train_test_split \n",
    "from sklearn.linear_model import LinearRegression\n",
    "from sklearn import metrics\n",
    "%matplotlib inline\n",
    "\n",
    "dataset = pd.read_csv('bodybrainDataset.csv')\n",
    "dataset.describe()\n",
    "X = dataset.iloc[:,1].values\n",
    "y = dataset.iloc[:,2].values\n",
    "#print(X.reshape(-1,1))\n",
    "\n",
    "# Splitting dataset into Train and Test set\n",
    "from sklearn.model_selection import train_test_split\n",
    "X_train, X_test, y_train, y_test = train_test_split(X,y,test_size=0.2,random_state=0)"
   ]
  },
  {
   "cell_type": "markdown",
   "metadata": {},
   "source": [
    "# Fit a linear regression model (6 points)\n",
    "Fit a linear regression model to your data. You can either reuse the code from the problem you just completed, or you can use the [linear regression model from scikit learn](http://scikit-learn.org/stable/modules/generated/sklearn.linear_model.LinearRegression.html). Scikit learn is a large module of machine learning algorithms that we will be using throughout the course. It is included in the Anaconda distribution."
   ]
  },
  {
   "cell_type": "code",
   "execution_count": 8,
   "metadata": {},
   "outputs": [
    {
     "data": {
      "text/plain": [
       "LinearRegression(copy_X=True, fit_intercept=True, n_jobs=None, normalize=False)"
      ]
     },
     "execution_count": 8,
     "metadata": {},
     "output_type": "execute_result"
    }
   ],
   "source": [
    "# Fit a linear regression model to your data\n",
    "from sklearn.linear_model import LinearRegression\n",
    "regressor = LinearRegression()\n",
    "regressor.fit(X_train.reshape(-1,1),y_train)"
   ]
  },
  {
   "cell_type": "markdown",
   "metadata": {},
   "source": [
    "# Plot the result (10 points)\n",
    "Plot your data and the best fitting model."
   ]
  },
  {
   "cell_type": "code",
   "execution_count": 12,
   "metadata": {},
   "outputs": [
    {
     "data": {
      "image/png": "[encoded data removed]",
      "text/plain": [
       "<Figure size 432x288 with 1 Axes>"
      ]
     },
     "metadata": {
      "needs_background": "light"
     },
     "output_type": "display_data"
    }
   ],
   "source": [
    "# Code to generate your plot here\n",
    "import matplotlib.pyplot as plt\n",
    "\n",
    "#dataset.plot(x='BrainWeight', y='BodyWeight', style='o')  \n",
    "#plt.title('Brain weight vs Body Weight(Dataset)')  \n",
    "#plt.xlabel('Brain weight')\n",
    "#plt.ylabel('Body weight')\n",
    "#plt.show()\n",
    "\n",
    "\n",
    "plt.scatter(X_train.reshape(-1,1),y_train,color='red')\n",
    "plt.xlabel('Brain weight')\n",
    "plt.ylabel('Body weight')\n",
    "plt.title('Brain weight vs Body Weight(Training)')\n",
    "plt.show()"
   ]
  },
  {
   "cell_type": "markdown",
   "metadata": {},
   "source": [
    "# Make a prediction (6 points)\n",
    "Use the learned hypothesis to make a prediction for an input value $x$ that was not in the data set. Briefly discuss the result in the context of the data set you chose. Does the prediction seem useful?"
   ]
  },
  {
   "cell_type": "code",
   "execution_count": 76,
   "metadata": {},
   "outputs": [
    {
     "name": "stdout",
     "output_type": "stream",
     "text": [
      "Predicted values\n",
      "[   34.91295954 11651.0499832     39.71427872   138.35956363\n",
      "    34.09237045    94.71120748    35.20976837   124.67143914\n",
      "    35.96052009   130.50285953    36.06527615    97.03330002\n",
      "    33.77984822   470.08707041   395.01189783    45.47586173\n",
      "    40.99754039   957.20272511    35.41928048    33.70826491\n",
      "    33.73445393]\n",
      "Observed values\n",
      "['12.30', '5712.00', '3.90', '81.00', '1.90', '56.00', '5.70', '440.00', '8.10', '175.00', '17.50', '119.50', '4.00', '490.00', '406.00', '179.00', '50.40', '680.00', '5.50', '1.00', '1.20']\n"
     ]
    }
   ],
   "source": [
    "# Code to make the prediction\n",
    "y_pred = regressor.predict(X_test.reshape(-1,1))\n",
    "\n",
    "print('Predicted values')\n",
    "print(y_pred)\n",
    "\n",
    "print('Observed values')\n",
    "print(y_test)"
   ]
  },
  {
   "cell_type": "markdown",
   "metadata": {},
   "source": [
    "** *Type brief discussion here* **\n",
    "I have divided the dataset into the training and test data. I have trained the model with 80% data of the set and then generated the prediction on rest of 20% of the data. By doing this I could compare the predicted value with the actual one.\n",
    "\n",
    "I have printed the both predicted value and actual values at the end. From what I found is that the prediction is not near to the accuracy. The reason can be that the feature data is not that in well distributited."
   ]
  },
  {
   "cell_type": "code",
   "execution_count": null,
   "metadata": {},
   "outputs": [],
   "source": []
  }
 ],
 "metadata": {
  "kernelspec": {
   "display_name": "Python 3",
   "language": "python",
   "name": "python3"
  },
  "language_info": {
   "codemirror_mode": {
    "name": "ipython",
    "version": 3
   },
   "file_extension": ".py",
   "mimetype": "text/x-python",
   "name": "python",
   "nbconvert_exporter": "python",
   "pygments_lexer": "ipython3",
   "version": "3.7.7"
  }
 },
 "nbformat": 4,
 "nbformat_minor": 1
}
